{
    "cells": [
        {
            "metadata": {},
            "cell_type": "markdown",
            "source": "# The Battle of the Neighborhoods - Week 1"
        },
        {
            "metadata": {},
            "cell_type": "markdown",
            "source": "### Introduction"
        },
        {
            "metadata": {},
            "cell_type": "markdown",
            "source": "The City of New York, is the most populous city in the United States. It's a global power city exerts a significant impact upon commerce, finance, media, art, fashion, research, technology, education, and entertainment. New York it a multicultural city and an important center for international diplomacy, has been described as the cultural capital of the world. It provides a lot of business opportunities.\n\nConsequently, it has a very competitive market and the costs of living and maitaining a business are very high. So, there are many variables to be analysed before deciding to invest in a new business. And, an necessity to understand better the market and create an strategy for proposed business model. By analysing the variables properly, it's possible to simulate different cenarios for better understanding of the business and it's results would help reducing unecessary risks."
        },
        {
            "metadata": {},
            "cell_type": "markdown",
            "source": "### Business Problem"
        },
        {
            "metadata": {},
            "cell_type": "markdown",
            "source": "A Bakery Cafe is a establishment that produces and sells flour-based food baked in an oven, like bread, cookies, cakes, pastries, pies and others. It\u2019s a retail bakery that includes a dining area for customers to sit and enjoy their food along with some drinks like coffee, tea and juices. New York city is incredibly famous for its cuisine and its cultural variety. Almost all ethnic cuisines are well represented and can be found in the city. There are a lot of history and culture brought by immigrants who embraced different neighborhoods to live on. And, each neighborhood has a different reflection of this immigration providing a singular cuisine experience. \nConsequently, creating a hole experience based on these individual combinations of cuisines can be a good start for opening a new bakery cafe. The top 20 contries of origins of New York City's immigrants over the last 50 years are: Dominican Republic, China, Jamaica, Mexico, Guyana, Haiti, India, Trinidad & Tobago, Bangladesh, Colombia, Ukraine, Philippines, Korea, Russia, Pakistan, Poland, Italy, Hong Kong, Peru and Uzbekistan. Being that, the list is ordered considering the number of recent immigrants measured in 2017. And since countries across the world each have their own baking traditions, they each also have their own unique bakeries. Some bakeries more commonly sell certain types of treats while others can offer a wide variety of sweets, savory breads, and more. So it's evident that to open a new bakery it's important to understand better customers custom and tastes of a particular region. \nBasically, there are a lot of strategic informations that can help deciding for a specific place, such as: \n\n1. New York Population\n2. New York City Demographics - by neighborhood if possible\n3. Competitors around the chosen location\n4. Food and drinks served by the competitors\n5. Baking traditions around the world\n6. New York City's Neighborhoods\n7. Venues around the chosen location\n8. Trending baked goods\n9. Saturated markets\n10. Untapped markets\n\nAll things considered, the first step it's performe this data analysis so that the new establishment can have a prosperous beginning by recognizing the market."
        },
        {
            "metadata": {},
            "cell_type": "markdown",
            "source": "### Objectives and criteria"
        },
        {
            "metadata": {},
            "cell_type": "markdown",
            "source": "One of the main objectives here will be finding a good location and the second, determining the baking traditions of that location so the owners can have a good perspective to build the menu. For this project, i'll be responsible for leading the analysis and the final report. The final results will be reported to the contractors summaryzing the project and pointing out the recommendations to be considered in the strategic planning of the new bakery cafe.\n\nThe reliability of the project will be based on the data analysis, metodology and coherence \n\nThe success criteria of the project will be a good recommendation of borough/Neighborhood choice to XYZ Company Ltd based on Lack of such restaurants in that location and nearest suppliers of ingredients."
        }
    ],
    "metadata": {
        "kernelspec": {
            "name": "python3",
            "display_name": "Python 3.6",
            "language": "python"
        },
        "language_info": {
            "name": "python",
            "version": "3.6.9",
            "mimetype": "text/x-python",
            "codemirror_mode": {
                "name": "ipython",
                "version": 3
            },
            "pygments_lexer": "ipython3",
            "nbconvert_exporter": "python",
            "file_extension": ".py"
        }
    },
    "nbformat": 4,
    "nbformat_minor": 1
}