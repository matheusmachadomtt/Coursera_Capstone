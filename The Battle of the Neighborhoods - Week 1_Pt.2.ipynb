{
    "cells": [
        {
            "metadata": {
                "collapsed": true
            },
            "cell_type": "markdown",
            "source": "## Introduction to Data Section - New York City"
        },
        {
            "metadata": {},
            "cell_type": "markdown",
            "source": "#### 1\u00ba - Boroughs and Neighborhoods: \nIn order to explore the data, we'll need the names of all 306 neighborhoods from the 5 boroughs and their coordinates so we can visualize it in a map. \nThis data is available on the web in this link: https://geo.nyu.edu/catalog/nyu_2451_34572\n\n#### 2\u00ba Population and Demographics: \nThis data will be usefull to understand the cuisine and culture origins of a certain region. For this analysis we'll get the data from the following wikipedia's website:\n1. Population\n    https://en.wikipedia.org/wiki/New_York_City\n2. Immigrant population and region of origin\n    https://comptroller.nyc.gov/reports/our-immigrant-population-helps-power-nyc-economy/\n3. Most popular cuisines for each borough \n    https://en.wikipedia.org/wiki/Cuisine_of_New_York_City\n\n#### 3\u00ba Bakeries\nUsing Foursquare API as a datasource we'll explore the city to get more information about any existing bakery in order to analyze possible competitors, market saturation and opportunities. This is very important to specify a possible location for the new business and it's strategy.\nThe data is downloaded through an API request, but it's also acessible through the Foursquare's website: https://foursquare.com/\n"
        }
    ],
    "metadata": {
        "kernelspec": {
            "name": "python3",
            "display_name": "Python 3.6",
            "language": "python"
        },
        "language_info": {
            "name": "python",
            "version": "3.6.9",
            "mimetype": "text/x-python",
            "codemirror_mode": {
                "name": "ipython",
                "version": 3
            },
            "pygments_lexer": "ipython3",
            "nbconvert_exporter": "python",
            "file_extension": ".py"
        }
    },
    "nbformat": 4,
    "nbformat_minor": 1
}